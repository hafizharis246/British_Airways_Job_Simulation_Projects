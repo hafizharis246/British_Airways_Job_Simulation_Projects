{
 "cells": [
  {
   "cell_type": "markdown",
   "id": "fdb5c068-46ac-40fc-b11e-e0bf32cba709",
   "metadata": {},
   "source": [
    "### Web Scrapping for British Airways Reviews"
   ]
  },
  {
   "cell_type": "code",
   "execution_count": 1,
   "id": "8ab3b7e6-868b-4e20-a4d0-0a3508f822ff",
   "metadata": {},
   "outputs": [],
   "source": [
    "## Importing Important Libraries\n",
    "from bs4 import BeautifulSoup\n",
    "import requests\n",
    "import pandas as pd"
   ]
  },
  {
   "cell_type": "markdown",
   "id": "7dc76517-0851-4642-b1ce-e6107200fee9",
   "metadata": {},
   "source": [
    "We will collect the data from [https://www.airlinequality.com] for British Airways Reviews and then used for analysis"
   ]
  },
  {
   "cell_type": "code",
   "execution_count": 2,
   "id": "b15f9224-1f32-4b29-bd20-4b22acaf1755",
   "metadata": {},
   "outputs": [
    {
     "name": "stdout",
     "output_type": "stream",
     "text": [
      "Scrapping Page # 1\n",
      "   ---> 100 total reviews\n",
      "Scrapping Page # 2\n",
      "   ---> 200 total reviews\n",
      "Scrapping Page # 3\n",
      "   ---> 300 total reviews\n",
      "Scrapping Page # 4\n",
      "   ---> 400 total reviews\n",
      "Scrapping Page # 5\n",
      "   ---> 500 total reviews\n",
      "Scrapping Page # 6\n",
      "   ---> 600 total reviews\n",
      "Scrapping Page # 7\n",
      "   ---> 700 total reviews\n",
      "Scrapping Page # 8\n",
      "   ---> 800 total reviews\n",
      "Scrapping Page # 9\n",
      "   ---> 900 total reviews\n",
      "Scrapping Page # 10\n",
      "   ---> 1000 total reviews\n"
     ]
    }
   ],
   "source": [
    "base_url = \"https://www.airlinequality.com/airline-reviews/british-airways\"\n",
    "pages = 10\n",
    "page_size = 100\n",
    "\n",
    "reviews = []\n",
    "for i in range(1, pages + 1):\n",
    "    print(f\"Scrapping Page # {i}\")\n",
    "\n",
    "    # Creating URLs to collect data from these Links\n",
    "    url = f\"{base_url}/page/{i}/?sortby=post_date%3ADesc&pagesize={page_size}\"\n",
    "\n",
    "    # Collecting HTML Data from pages\n",
    "    response = requests.get(url)\n",
    "\n",
    "    # Parsing HTML Data\n",
    "    content = response.content\n",
    "    parsed_content = BeautifulSoup(content, \"html.parser\")\n",
    "    for para in parsed_content.find_all(\"div\", {\"class\" : \"text_content\"}):\n",
    "        reviews.append(para.get_text())\n",
    "\n",
    "    print(f\"   ---> {len(reviews)} total reviews\")"
   ]
  },
  {
   "cell_type": "code",
   "execution_count": 3,
   "id": "90ea4d4d-c8b7-4e23-b746-dce1a7741249",
   "metadata": {},
   "outputs": [
    {
     "data": {
      "text/html": [
       "<div>\n",
       "<style scoped>\n",
       "    .dataframe tbody tr th:only-of-type {\n",
       "        vertical-align: middle;\n",
       "    }\n",
       "\n",
       "    .dataframe tbody tr th {\n",
       "        vertical-align: top;\n",
       "    }\n",
       "\n",
       "    .dataframe thead th {\n",
       "        text-align: right;\n",
       "    }\n",
       "</style>\n",
       "<table border=\"1\" class=\"dataframe\">\n",
       "  <thead>\n",
       "    <tr style=\"text-align: right;\">\n",
       "      <th></th>\n",
       "      <th>reviews</th>\n",
       "    </tr>\n",
       "  </thead>\n",
       "  <tbody>\n",
       "    <tr>\n",
       "      <th>0</th>\n",
       "      <td>✅ Trip Verified |   I had an appalling experie...</td>\n",
       "    </tr>\n",
       "    <tr>\n",
       "      <th>1</th>\n",
       "      <td>Not Verified |  Good points, the cabin crew, t...</td>\n",
       "    </tr>\n",
       "    <tr>\n",
       "      <th>2</th>\n",
       "      <td>Not Verified |  It was a decent flight, reason...</td>\n",
       "    </tr>\n",
       "    <tr>\n",
       "      <th>3</th>\n",
       "      <td>✅ Trip Verified |   I really like flying Briti...</td>\n",
       "    </tr>\n",
       "    <tr>\n",
       "      <th>4</th>\n",
       "      <td>✅ Trip Verified |   Could not book online the ...</td>\n",
       "    </tr>\n",
       "  </tbody>\n",
       "</table>\n",
       "</div>"
      ],
      "text/plain": [
       "                                             reviews\n",
       "0  ✅ Trip Verified |   I had an appalling experie...\n",
       "1  Not Verified |  Good points, the cabin crew, t...\n",
       "2  Not Verified |  It was a decent flight, reason...\n",
       "3  ✅ Trip Verified |   I really like flying Briti...\n",
       "4  ✅ Trip Verified |   Could not book online the ..."
      ]
     },
     "execution_count": 3,
     "metadata": {},
     "output_type": "execute_result"
    }
   ],
   "source": [
    "df = pd.DataFrame()\n",
    "df['reviews'] = reviews\n",
    "df.head()"
   ]
  },
  {
   "cell_type": "code",
   "execution_count": 4,
   "id": "38558500-04a5-44a4-99f3-ca4676969e09",
   "metadata": {},
   "outputs": [],
   "source": [
    "# Making a CSV for the reviews\n",
    "df.to_csv(\"data/British_Airline_Reviews.csv\")"
   ]
  },
  {
   "cell_type": "code",
   "execution_count": null,
   "id": "a04df4ae-f7d8-499c-b4a7-83a4d9482b4b",
   "metadata": {},
   "outputs": [],
   "source": []
  }
 ],
 "metadata": {
  "kernelspec": {
   "display_name": "Python 3 (ipykernel)",
   "language": "python",
   "name": "python3"
  },
  "language_info": {
   "codemirror_mode": {
    "name": "ipython",
    "version": 3
   },
   "file_extension": ".py",
   "mimetype": "text/x-python",
   "name": "python",
   "nbconvert_exporter": "python",
   "pygments_lexer": "ipython3",
   "version": "3.12.7"
  }
 },
 "nbformat": 4,
 "nbformat_minor": 5
}
